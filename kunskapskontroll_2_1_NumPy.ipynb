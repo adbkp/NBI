{
 "cells": [
  {
   "cell_type": "markdown",
   "id": "dacf74e6",
   "metadata": {},
   "source": [
    "# NumPy"
   ]
  },
  {
   "cell_type": "markdown",
   "id": "01b2bf34",
   "metadata": {},
   "source": [
    "Read the links: https://numpy.org/doc/stable/user/quickstart.html  and https://numpy.org/doc/stable/user/basics.broadcasting.html  before solving the exercises. "
   ]
  },
  {
   "cell_type": "code",
   "execution_count": 2,
   "id": "1f79e4a6",
   "metadata": {},
   "outputs": [],
   "source": [
    "import numpy as np"
   ]
  },
  {
   "cell_type": "markdown",
   "id": "7dae6889",
   "metadata": {},
   "source": [
    "### Print out the dimension (number of axes), shape, size and the datatype of the matrix A."
   ]
  },
  {
   "cell_type": "code",
   "execution_count": 4,
   "id": "7b3678cd",
   "metadata": {},
   "outputs": [],
   "source": [
    "A = np.arange(1, 16).reshape(3,5)"
   ]
  },
  {
   "cell_type": "code",
   "execution_count": 6,
   "id": "31d39235",
   "metadata": {},
   "outputs": [
    {
     "data": {
      "text/plain": [
       "2"
      ]
     },
     "execution_count": 6,
     "metadata": {},
     "output_type": "execute_result"
    }
   ],
   "source": [
    "\"\"\"\n",
    "A.ndim: Print the number of axes (dimensions)\n",
    "A.shape: Print the shape (dimensions in each axis)\n",
    "A.size: Print the total number of elements\n",
    "A.dtype: Print the data type of the elements\n",
    "\"\"\"\n",
    "A.ndim"
   ]
  },
  {
   "cell_type": "code",
   "execution_count": 8,
   "id": "95d9a593-d1c1-45b4-824e-507499a4a1df",
   "metadata": {},
   "outputs": [
    {
     "data": {
      "text/plain": [
       "(3, 5)"
      ]
     },
     "execution_count": 8,
     "metadata": {},
     "output_type": "execute_result"
    }
   ],
   "source": [
    "A.shape"
   ]
  },
  {
   "cell_type": "code",
   "execution_count": 10,
   "id": "05ec1dbb-0f7c-4204-9769-05d5eeef6639",
   "metadata": {},
   "outputs": [
    {
     "data": {
      "text/plain": [
       "15"
      ]
     },
     "execution_count": 10,
     "metadata": {},
     "output_type": "execute_result"
    }
   ],
   "source": [
    "A.size"
   ]
  },
  {
   "cell_type": "code",
   "execution_count": 12,
   "id": "90084b87-3bb5-44b4-8e49-b7e7a3e778e2",
   "metadata": {},
   "outputs": [
    {
     "data": {
      "text/plain": [
       "dtype('int32')"
      ]
     },
     "execution_count": 12,
     "metadata": {},
     "output_type": "execute_result"
    }
   ],
   "source": [
    "A.dtype"
   ]
  },
  {
   "cell_type": "markdown",
   "id": "e56d2a96",
   "metadata": {},
   "source": [
    "### Do the following computations on the matrices B and C: \n",
    "* Elementwise subtraction. \n",
    "* Elementwise multiplication. \n",
    "* Matrix multiplication (by default you should use the @ operator)."
   ]
  },
  {
   "cell_type": "code",
   "execution_count": 14,
   "id": "a7053fbb",
   "metadata": {},
   "outputs": [
    {
     "name": "stdout",
     "output_type": "stream",
     "text": [
      "[[1 2 3]\n",
      " [4 5 6]\n",
      " [7 8 9]]\n",
      "\n",
      "[[2. 2. 2.]\n",
      " [2. 2. 2.]\n",
      " [2. 2. 2.]]\n"
     ]
    }
   ],
   "source": [
    "B = np.arange(1, 10).reshape(3, 3)\n",
    "C = np.ones((3, 3))*2\n",
    "\n",
    "print(B)\n",
    "print()\n",
    "print(C)"
   ]
  },
  {
   "cell_type": "code",
   "execution_count": 22,
   "id": "3cd794ae",
   "metadata": {},
   "outputs": [
    {
     "name": "stdout",
     "output_type": "stream",
     "text": [
      "[[-1.  0.  1.]\n",
      " [ 2.  3.  4.]\n",
      " [ 5.  6.  7.]]\n"
     ]
    }
   ],
   "source": [
    "# Elementwise subtraction.\n",
    "print(B-C)"
   ]
  },
  {
   "cell_type": "code",
   "execution_count": 24,
   "id": "13ecbe67-b6c8-49d2-911e-3c892e5fb3e4",
   "metadata": {},
   "outputs": [
    {
     "name": "stdout",
     "output_type": "stream",
     "text": [
      "[[ 2.  4.  6.]\n",
      " [ 8. 10. 12.]\n",
      " [14. 16. 18.]]\n"
     ]
    }
   ],
   "source": [
    "# Elementwise multiplication.\n",
    "print(B*C)"
   ]
  },
  {
   "cell_type": "code",
   "execution_count": 26,
   "id": "4c45f354-2f44-4e53-9544-8c27d1713ec5",
   "metadata": {},
   "outputs": [
    {
     "data": {
      "text/plain": [
       "array([[12., 12., 12.],\n",
       "       [30., 30., 30.],\n",
       "       [48., 48., 48.]])"
      ]
     },
     "execution_count": 26,
     "metadata": {},
     "output_type": "execute_result"
    }
   ],
   "source": [
    "#Matrix multiplication (by default you should use the @ operator).\n",
    "B@C"
   ]
  },
  {
   "cell_type": "markdown",
   "id": "96030d53",
   "metadata": {},
   "source": [
    "### Do the following calculations on the matrix:\n",
    "* Exponentiate each number elementwise (use the np.exp function).\n",
    "\n",
    "* Calculate the minimum value in the whole matrix. \n",
    "* Calculcate the minimum value in each row. \n",
    "* Calculcate the minimum value in each column. \n",
    "\n",
    "\n",
    "* Find the index value for the minimum value in the whole matrix (hint: use np.argmin).\n",
    "* Find the index value for the minimum value in each row (hint: use np.argmin).\n",
    "\n",
    "\n",
    "* Calculate the sum for all elements.\n",
    "* Calculate the mean for each column. \n",
    "* Calculate the median for each column. "
   ]
  },
  {
   "cell_type": "code",
   "execution_count": 32,
   "id": "f8a9166b",
   "metadata": {},
   "outputs": [
    {
     "name": "stdout",
     "output_type": "stream",
     "text": [
      "[[1 2 3]\n",
      " [4 5 6]\n",
      " [7 8 9]]\n"
     ]
    }
   ],
   "source": [
    "B = np.arange(1, 10).reshape(3, 3)\n",
    "print(B)"
   ]
  },
  {
   "cell_type": "code",
   "execution_count": 38,
   "id": "f03f24f7",
   "metadata": {},
   "outputs": [
    {
     "name": "stdout",
     "output_type": "stream",
     "text": [
      "Exponentiate each element\n",
      "[[2.71828183e+00 7.38905610e+00 2.00855369e+01]\n",
      " [5.45981500e+01 1.48413159e+02 4.03428793e+02]\n",
      " [1.09663316e+03 2.98095799e+03 8.10308393e+03]]\n",
      "\n",
      "Minimum value in whole matrix\n",
      "1\n",
      "\n",
      "Minimum value in each row\n",
      "[[2.71828183e+00 7.38905610e+00 2.00855369e+01]\n",
      " [5.45981500e+01 1.48413159e+02 4.03428793e+02]\n",
      " [1.09663316e+03 2.98095799e+03 8.10308393e+03]]\n",
      "\n",
      "Minimum value in each column\n",
      "[1 2 3]\n",
      "\n",
      "Index of minimum value in whole matrix\n",
      "0\n",
      "\n",
      "Index of minimum value in each row\n",
      "[0 0 0]\n",
      "\n",
      "Sum of all elements\n",
      "45\n",
      "\n",
      "Mean of each column\n",
      "[4. 5. 6.]\n",
      "\n",
      "Median of each column\n",
      "[4. 5. 6.]\n",
      "\n"
     ]
    }
   ],
   "source": [
    "# 1. Exponentiate each element\n",
    "exp_each_element=(np.exp(B))\n",
    "print(\"Exponentiate each element\")\n",
    "print (exp_each_element)\n",
    "print()\n",
    "\n",
    "# 2. Minimum value in whole matrix\n",
    "min_total = np.min(B)\n",
    "print(\"Minimum value in whole matrix\")\n",
    "print (min_total)\n",
    "print()\n",
    "\n",
    "# 3. Minimum value in each row\n",
    "min_rows = np.min(B, axis=1)\n",
    "print(\"Minimum value in each row\")\n",
    "print (exp_each_element)\n",
    "print()\n",
    "\n",
    "# 4. Minimum value in each column\n",
    "min_cols = np.min(B, axis=0)\n",
    "print(\"Minimum value in each column\")\n",
    "print (min_cols)\n",
    "print()\n",
    "\n",
    "# 5. Index of minimum value in whole matrix\n",
    "min_index = np.argmin(B)\n",
    "print(\"Index of minimum value in whole matrix\")\n",
    "print (min_index)\n",
    "print()\n",
    "\n",
    "# 6. Index of minimum value in each row\n",
    "min_row_indices = np.argmin(B, axis=1)\n",
    "print(\"Index of minimum value in each row\")\n",
    "print( min_row_indices)\n",
    "print()\n",
    "\n",
    "# 7. Sum of all elements\n",
    "total_sum = np.sum(B)\n",
    "print(\"Sum of all elements\")\n",
    "print (total_sum)\n",
    "print()\n",
    "\n",
    "# 8. Mean of each column\n",
    "col_means = np.mean(B, axis=0)\n",
    "print(\"Mean of each column\")\n",
    "print (col_means)\n",
    "print()\n",
    "\n",
    "# 9. Median of each column\n",
    "col_medians = np.median(B, axis=0)\n",
    "print(\"Median of each column\")\n",
    "print (col_medians)\n",
    "print()"
   ]
  },
  {
   "cell_type": "markdown",
   "id": "541eb7ba",
   "metadata": {},
   "source": [
    "### What does it mean when you provide fewer indices than axes when slicing? See example below."
   ]
  },
  {
   "cell_type": "code",
   "execution_count": 40,
   "id": "9c8abf56",
   "metadata": {},
   "outputs": [
    {
     "name": "stdout",
     "output_type": "stream",
     "text": [
      "[[ 1  2  3  4  5]\n",
      " [ 6  7  8  9 10]\n",
      " [11 12 13 14 15]]\n"
     ]
    }
   ],
   "source": [
    "print(A)"
   ]
  },
  {
   "cell_type": "code",
   "execution_count": 46,
   "id": "69415f7b",
   "metadata": {},
   "outputs": [
    {
     "data": {
      "text/plain": [
       "array([ 6,  7,  8,  9, 10])"
      ]
     },
     "execution_count": 46,
     "metadata": {},
     "output_type": "execute_result"
    }
   ],
   "source": [
    "A[1]"
   ]
  },
  {
   "cell_type": "markdown",
   "id": "6c53541b",
   "metadata": {},
   "source": [
    "**Answer:**"
   ]
  },
  {
   "cell_type": "code",
   "execution_count": null,
   "id": "de01e120",
   "metadata": {},
   "outputs": [],
   "source": [
    "# It returns the second row (if i input 0 instead of 1 that in returns the first row)"
   ]
  },
  {
   "cell_type": "markdown",
   "id": "6652d0c9",
   "metadata": {},
   "source": [
    "### Iterating over multidimensional arrays is done with respect to the first axis, so in the example below we iterate trough the rows. If you would like to iterate through the array *elementwise*, how would you do that?"
   ]
  },
  {
   "cell_type": "code",
   "execution_count": 48,
   "id": "9459864f",
   "metadata": {},
   "outputs": [
    {
     "data": {
      "text/plain": [
       "array([[ 1,  2,  3,  4,  5],\n",
       "       [ 6,  7,  8,  9, 10],\n",
       "       [11, 12, 13, 14, 15]])"
      ]
     },
     "execution_count": 48,
     "metadata": {},
     "output_type": "execute_result"
    }
   ],
   "source": [
    "A"
   ]
  },
  {
   "cell_type": "code",
   "execution_count": 50,
   "id": "a671bb5a",
   "metadata": {},
   "outputs": [
    {
     "name": "stdout",
     "output_type": "stream",
     "text": [
      "[1 2 3 4 5]\n",
      "[ 6  7  8  9 10]\n",
      "[11 12 13 14 15]\n"
     ]
    }
   ],
   "source": [
    "for i in A:\n",
    "    print(i)"
   ]
  },
  {
   "cell_type": "code",
   "execution_count": 52,
   "id": "f4e443a0",
   "metadata": {},
   "outputs": [
    {
     "name": "stdout",
     "output_type": "stream",
     "text": [
      "1\n",
      "2\n",
      "3\n",
      "4\n",
      "5\n",
      "6\n",
      "7\n",
      "8\n",
      "9\n",
      "10\n",
      "11\n",
      "12\n",
      "13\n",
      "14\n",
      "15\n"
     ]
    }
   ],
   "source": [
    "#Iterate elementwise\n",
    "for element in A.flat:\n",
    "    print(element)"
   ]
  },
  {
   "cell_type": "markdown",
   "id": "608a2583",
   "metadata": {},
   "source": [
    "### Explain what the code below does. More specifically, b has three axes - what does this mean? "
   ]
  },
  {
   "cell_type": "code",
   "execution_count": 54,
   "id": "f8f9b26f",
   "metadata": {},
   "outputs": [
    {
     "name": "stdout",
     "output_type": "stream",
     "text": [
      "[ 0  1  2  3  4  5  6  7  8  9 10 11 12 13 14 15 16 17 18 19 20 21 22 23\n",
      " 24 25 26 27 28 29]\n",
      "\n",
      "[[[ 0  1  2  3  4]\n",
      "  [ 5  6  7  8  9]\n",
      "  [10 11 12 13 14]]\n",
      "\n",
      " [[15 16 17 18 19]\n",
      "  [20 21 22 23 24]\n",
      "  [25 26 27 28 29]]]\n"
     ]
    }
   ],
   "source": [
    "a = np.arange(30)\n",
    "b = a.reshape((2, 3, -1))\n",
    "print(a)\n",
    "print()\n",
    "\n",
    "print(b)"
   ]
  },
  {
   "cell_type": "code",
   "execution_count": null,
   "id": "863a45df",
   "metadata": {},
   "outputs": [],
   "source": [
    "b är tredimensionell, ett rätblock\n",
    "2 lager\n",
    "3 rader per lager\n",
    "4 kolumner per rad"
   ]
  },
  {
   "cell_type": "code",
   "execution_count": null,
   "id": "eed38bbb-dd20-4d23-837f-679aa3d3a067",
   "metadata": {},
   "outputs": [],
   "source": []
  },
  {
   "cell_type": "markdown",
   "id": "421c9607-819a-401d-949a-97424436fe29",
   "metadata": {},
   "source": [
    "# For the exercises below, read the document *\"matematik_yh_antonio_vektorer_matriser_utdrag\"*\n",
    "# Solutions to the exercises and recorded videos can be found here: https://github.com/AntonioPrgomet/matematik_foer_yh\n",
    "\n",
    "# If you find the exercises below very hard, do not worry. Try your best, that will be enough. "
   ]
  },
  {
   "cell_type": "markdown",
   "id": "ab5933d5",
   "metadata": {},
   "source": [
    "### Broadcasting\n",
    "**Read the following link about broadcasting: https://numpy.org/doc/stable/user/basics.broadcasting.html#basics-broadcasting**"
   ]
  },
  {
   "cell_type": "markdown",
   "id": "039805ba",
   "metadata": {},
   "source": [
    "# Remark on Broadcasting when doing Linear Algebra calculations in Python. "
   ]
  },
  {
   "cell_type": "markdown",
   "id": "c4bcc147",
   "metadata": {},
   "source": [
    "### From the mathematical rules of matrix addition, the operation below (m1 + m2) does not make sense. The reason is that matrix addition requires two matrices of the same size. In Python however, it works due to broadcasting rules in NumPy. So you must be careful when doing Linear Algebra calculations in Python since they do not follow the \"mathematical rules\". This can however easily be handled by doing some simple programming, for example validating that two matrices have the same shape is easy if you for instance want to add two matrices. "
   ]
  },
  {
   "cell_type": "code",
   "execution_count": null,
   "id": "1fd46778",
   "metadata": {},
   "outputs": [],
   "source": [
    "m1 = np.array([[1, 2], [3, 4]])\n",
    "m2 = np.array([1, 1])\n",
    "print(m1 + m2)"
   ]
  },
  {
   "cell_type": "markdown",
   "id": "047d6576",
   "metadata": {},
   "source": [
    "### The example below would also not be allowed if following the \"mathematical rules\" in Linear Algebra. But it works due to broadcasting in NumPy. "
   ]
  },
  {
   "cell_type": "code",
   "execution_count": null,
   "id": "5e6ef2e4",
   "metadata": {},
   "outputs": [],
   "source": [
    "v1 = np.array([1, 2, 3])\n",
    "print(v1 + 1)"
   ]
  },
  {
   "cell_type": "code",
   "execution_count": null,
   "id": "e2cbae26",
   "metadata": {},
   "outputs": [],
   "source": [
    "A = np.arange(1, 5).reshape(2,2)\n",
    "print(A)\n",
    "\n",
    "b = np.array([2, 2])\n",
    "print(b)"
   ]
  },
  {
   "cell_type": "markdown",
   "id": "722fd5cd",
   "metadata": {},
   "source": [
    "# Vector- and matrix algebra Exercises"
   ]
  },
  {
   "cell_type": "markdown",
   "id": "b63a3081-d976-4d9f-bfd0-a63917e79f7d",
   "metadata": {},
   "source": [
    "**Now you are going to create a function that can be reused every time you add or multiply matrices. The function is created so that we do the addition and multiplication according to the rules of vector- and matrix algebra.**\n",
    "\n",
    "**Create a function \"add_mult_matrices\" that takes two matrices as input arguments (validate that the input are of the type numpy.ndarray by using the isinstance function), a third argument that is either 'add' or 'multiply' that specifies if you want to add or multiply the matrices (validate that the third argument is either 'add' or 'multiply'). When doing matrix addition, validate that the matrices have the same size. When doing matrix multiplication, validate that the sizes conform (i.e. number of columns in the first matrix is equal to the number of rows in the second matrix).**"
   ]
  },
  {
   "cell_type": "code",
   "execution_count": 56,
   "id": "3506f977-ac0a-473f-85bc-eec9f35dc498",
   "metadata": {},
   "outputs": [],
   "source": [
    "def add_mult_matrices(matrix1, matrix2, operation):\n",
    "    # Validate that inputs are numpy arrays\n",
    "    if not (isinstance(matrix1, np.ndarray) and isinstance(matrix2, np.ndarray)):\n",
    "        raise TypeError(\"Both matrices must be numpy arrays\")\n",
    "    \n",
    "    # Validate operation argument\n",
    "    if operation not in ['add', 'multiply']:\n",
    "        raise ValueError(\"Operation must be either 'add' or 'multiply'\")\n",
    "    \n",
    "    if operation == 'add':\n",
    "        # Validate matrices have same size\n",
    "        if matrix1.shape != matrix2.shape:\n",
    "            raise ValueError(\"For addition, matrices must have the same shape\")\n",
    "        return matrix1 + matrix2\n",
    "    \n",
    "    else:  # operation == 'multiply'\n",
    "        # Validate matrices can be multiplied\n",
    "        if matrix1.shape[1] != matrix2.shape[0]:\n",
    "            raise ValueError(\"For multiplication, number of columns in first matrix must equal number of rows in second matrix\")\n",
    "        return np.dot(matrix1, matrix2)"
   ]
  },
  {
   "cell_type": "code",
   "execution_count": 58,
   "id": "cd3bc04c-a2ce-44ba-ae59-b1afe5b317f0",
   "metadata": {},
   "outputs": [
    {
     "data": {
      "text/plain": [
       "array([ 0,  1,  2,  3,  4,  5,  6,  7,  8,  9, 10, 11, 12, 13, 14, 15, 16,\n",
       "       17, 18, 19, 20, 21, 22, 23, 24, 25, 26, 27, 28, 29])"
      ]
     },
     "execution_count": 58,
     "metadata": {},
     "output_type": "execute_result"
    }
   ],
   "source": [
    "a"
   ]
  },
  {
   "cell_type": "code",
   "execution_count": 68,
   "id": "17854c33-f16a-41b2-8b60-d3aa7ef10d92",
   "metadata": {},
   "outputs": [
    {
     "data": {
      "text/plain": [
       "array([ 0,  2,  4,  6,  8, 10, 12, 14, 16, 18, 20, 22, 24, 26, 28, 30, 32,\n",
       "       34, 36, 38, 40, 42, 44, 46, 48, 50, 52, 54, 56, 58])"
      ]
     },
     "execution_count": 68,
     "metadata": {},
     "output_type": "execute_result"
    }
   ],
   "source": [
    "C=2*a\n",
    "C"
   ]
  },
  {
   "cell_type": "code",
   "execution_count": 70,
   "id": "4037a7f3-af90-4516-8891-f629ceb47c24",
   "metadata": {},
   "outputs": [
    {
     "data": {
      "text/plain": [
       "array([ 0,  3,  6,  9, 12, 15, 18, 21, 24, 27, 30, 33, 36, 39, 42, 45, 48,\n",
       "       51, 54, 57, 60, 63, 66, 69, 72, 75, 78, 81, 84, 87])"
      ]
     },
     "execution_count": 70,
     "metadata": {},
     "output_type": "execute_result"
    }
   ],
   "source": [
    "add_mult_matrices(a, C, \"add\")"
   ]
  },
  {
   "cell_type": "markdown",
   "id": "8dad82d0-2359-4dff-8f5b-a57d3e34103c",
   "metadata": {},
   "source": [
    "### Solve all the exercises in chapter 10.1 in the book \"Matematik för yrkeshögskolan\". "
   ]
  },
  {
   "cell_type": "code",
   "execution_count": null,
   "id": "55e2e45e-a8ec-42ee-ba9f-da78097382f2",
   "metadata": {},
   "outputs": [],
   "source": [
    "***\n",
    "Uppgift 10.1.1. Definiera vektorn x enligt nedan.\n",
    "x = (4, 3)\n",
    "(a) Vilken dimension har vektorn x? SVAR=1x2\n",
    "(b) Ber¨akna 5x. SVAR= (20,15)\n",
    "(c) Ber¨akna 3x. SVAR= (12,9)\n",
    "(d) Ber¨akna 5x + 3x. SVAR=(32,24)\n",
    "(e) Ber¨akna 8x. SVAR=(32,24)\n",
    "(f) Ber¨akna 4x − x. SVAR (12,9)\n",
    "(g) Ber¨akna x\n",
    "⊤, vilken blir den nya dimensionen efter att\n",
    "transponeringen utf¨orts? 2x1\n",
    "(h) Ar ¨ x + x\n",
    "⊤ definierat? SVAR = Nej, vektorerna har olika dimension\n",
    "(i) Ber¨akna ∥x∥. SVAR 16+9 =25 Roten ur 25 är 5 - SVAR 5\n",
    "\n",
    "\n",
    "  \n",
    "***"
   ]
  },
  {
   "cell_type": "code",
   "execution_count": null,
   "id": "a988775f-87ea-4637-9ce4-0f5548e9d181",
   "metadata": {},
   "outputs": [],
   "source": []
  },
  {
   "cell_type": "code",
   "execution_count": 83,
   "id": "89df88af-3668-4d98-a0a4-e6d92eea0f89",
   "metadata": {},
   "outputs": [
    {
     "ename": "SyntaxError",
     "evalue": "invalid decimal literal (3765372809.py, line 9)",
     "output_type": "error",
     "traceback": [
      "\u001b[1;36m  Cell \u001b[1;32mIn[83], line 9\u001b[1;36m\u001b[0m\n\u001b[1;33m    (a) Vilken dimension har vektorn v? SVAR 4x1\u001b[0m\n\u001b[1;37m                                             ^\u001b[0m\n\u001b[1;31mSyntaxError\u001b[0m\u001b[1;31m:\u001b[0m invalid decimal literal\n"
     ]
    }
   ],
   "source": [
    "***\n",
    "Uppgift 10.1.2. Definiera vektorn v enligt nedan.\n",
    "v =\n",
    "3\n",
    "7\n",
    "0\n",
    "11\n",
    "\n",
    "(a) Vilken dimension har vektorn v? SVAR 4x1\n",
    "(b) Ber¨akna 2v.\n",
    "SVAR=\n",
    "6\n",
    "13\n",
    "0\n",
    "22\n",
    "\n",
    "\n",
    "(c) Ber¨akna 5v + 2v.\n",
    "21\n",
    "49\n",
    "0\n",
    "77\n",
    "\n",
    "\n",
    "(d) Ber¨akna 4v − 2v.\n",
    "6\n",
    "14\n",
    "0\n",
    "22\n",
    "\n",
    "(e) Ber¨akna v\n",
    "⊤, vilken blir den nya dimensionen efter att\n",
    "transponeringen utf¨orts?\n",
    "1X4\n",
    "(f) Ber¨akna ∥v∥.\n",
    "\n",
    "    3 7 0 11 ,,, 9 49 0 121 = Roten ur 179\n",
    "***\n",
    "    "
   ]
  },
  {
   "cell_type": "code",
   "execution_count": null,
   "id": "183b0d6e-70b5-4b3c-92e9-3c0eb1c8f387",
   "metadata": {},
   "outputs": [],
   "source": [
    "***\n",
    "Uppgift 10.1.3. Definiera vektorerna v1 = (4, 3, 1, 5) och\n",
    "v2 = (2, 3, 1, 1).\n",
    "(a) Ber¨akna ∥v1∥.\n",
    "16 9 1 25 SVAR Roten ur 51\n",
    "\n",
    "\n",
    "\n",
    "(b) Ber¨akna ∥v1 − v2∥.  \n",
    "\n",
    "v1-v2 = 2,0,0,4\n",
    "Roten ur 4 + 16 =Roten ur 20\n",
    "\n",
    "***"
   ]
  },
  {
   "cell_type": "markdown",
   "id": "75c98984-1f88-4df1-b850-d2466de444a5",
   "metadata": {},
   "source": [
    "### Solve all the exercises, except 10.2.4, in chapter 10.2 in the book \"Matematik för yrkeshögskolan\". "
   ]
  },
  {
   "cell_type": "code",
   "execution_count": null,
   "id": "65371610-16e1-48b2-b7fb-65e49002608a",
   "metadata": {},
   "outputs": [],
   "source": [
    "Ovningsuppgifter ¨\n",
    "Uppgift 10.2.1. Definiera matriserna\n",
    "A =\n",
    "\u0014\n",
    "2 1 −1\n",
    "1 −1 1 \u0015\n",
    ", B =\n",
    "\u0014\n",
    "4 −2 1\n",
    "2 −4 −2\n",
    "\u0015\n",
    ", C =\n",
    "\u0014\n",
    "1 2\n",
    "2 1\u0015\n",
    ",\n",
    "D =\n",
    "\u0014\n",
    "3 4\n",
    "4 3\u0015\n",
    ", E =\n",
    "\u0014\n",
    "1\n",
    "2\n",
    "\u0015\n",
    ". I =\n",
    "\u0014\n",
    "1 0\n",
    "0 1\u0015\n",
    ".\n",
    "Om det ¨ar definierat, utf¨or f¨oljande ber¨akningar:\n",
    "(a) 2A\n",
    "4,2,-2\n",
    "2,-2,2\n",
    "\n",
    "(b) B − 2A\n",
    "4,-2,1   4,2,-2  0,-4,3\n",
    "2,-4,-2  2,-2,2  0,-2,-4\n",
    "\n",
    "(c) 3C − 2E\n",
    ", C =\n",
    "\u0014\n",
    "1 2\n",
    "2 1\u0015\n",
    ", E =\n",
    "\u0014\n",
    "1\n",
    "2\n",
    "\n",
    "Ej definierat - olika dimensioner\n",
    "    \n",
    "(d) 2D − 3C\n",
    "D =\n",
    "\u0014\n",
    "3 4\n",
    "4 3\u0015\n",
    " C =\n",
    "\u0014\n",
    "1 2\n",
    "2 1\u0015\n",
    "\n",
    "6 8     3 6     3 2\n",
    "8 6     6 3     2 3\n",
    "\n",
    "\n",
    "(e) D⊤ + 2D\n",
    "D =\n",
    "\u0014\n",
    "3 4\n",
    "4 3\u0015\n",
    "\n",
    "9 12\n",
    "12 9\n",
    "\n",
    "(f) 2C⊤ − 2D⊤\n",
    "2 4   6 8   -4 -4\n",
    "4 2   8 6   -4 -4\n",
    "\n",
    "\n",
    "(g) A⊤ − B\n",
    "Ej definierat\n",
    "\n",
    "(h) AC\n",
    "Ej definierat\n",
    "\n",
    "(i) CD\n",
    "C =\n",
    "\u0014\n",
    "1 2\n",
    "2 1\u0015\n",
    ",\n",
    "D =\n",
    "\u0014\n",
    "3 4\n",
    "4 3\u0015\n",
    "\n",
    "1x3+2x4 1x4+2x3\n",
    "2x3+1x4 2x4 1x3\n",
    "\n",
    "11 10\n",
    "10 11\n",
    "\n",
    "(j) CB\n",
    "\n",
    "\n",
    "(k) CI\n",
    "1 2\n",
    "2 1\n",
    "\n",
    "(l) AB⊤\n",
    "5 2\n",
    "7 4"
   ]
  },
  {
   "cell_type": "code",
   "execution_count": null,
   "id": "c044f17c-22be-4ac6-b9e7-217c8ac2978e",
   "metadata": {},
   "outputs": [],
   "source": [
    "Uppgift 10.2.2. Definiera matrisen\n",
    "A =\n",
    "\u0014\n",
    "2 3 4\n",
    "5 4 1\u0015\n",
    "Ber¨akna AAT\n",
    ".\n"
   ]
  },
  {
   "cell_type": "code",
   "execution_count": null,
   "id": "929d152b-853c-49bc-9866-d25a1b633e4e",
   "metadata": {},
   "outputs": [],
   "source": [
    "Uppgift 10.2.3. Definiera matriserna\n",
    "A =\n",
    "\u0014\n",
    "1 2\n",
    "2 4\u0015\n",
    ", B =\n",
    "\u0014\n",
    "2 1\n",
    "1 3\u0015\n",
    "och C =\n",
    "\u0014\n",
    "4 3\n",
    "0 2\u0015\n",
    ".\n",
    "Verifiera att AB = AC men att B ̸= C. Vad vi vill demon\u0002strera med detta exemplet ¨ar att vi har definierat ett nytt\n",
    "matematiskt objekt (matriser i detta fallet) och att de ”van\u0002liga reglerna” f¨or aritmetik som vi l¨art oss fr˚an grundskolan\n",
    "inte n¨odv¨andigtvis g¨aller ¨aven h¨ar.\n",
    "    \n"
   ]
  },
  {
   "cell_type": "markdown",
   "id": "6a4a524f",
   "metadata": {},
   "source": [
    "### Copies and Views\n",
    "Read the following link: https://numpy.org/doc/stable/user/basics.copies.html"
   ]
  },
  {
   "cell_type": "markdown",
   "id": "6cbbeaf7",
   "metadata": {},
   "source": [
    "**Basic indexing creates a view, How can you check if v1 and v2 is a view or copy? If you change the last element in v2 to 123, will the last element in v1 be changed? Why?**"
   ]
  },
  {
   "cell_type": "code",
   "execution_count": 72,
   "id": "5b9ef4df",
   "metadata": {},
   "outputs": [
    {
     "name": "stdout",
     "output_type": "stream",
     "text": [
      "[0 1 2 3]\n",
      "[2 3]\n"
     ]
    }
   ],
   "source": [
    "v1 = np.arange(4)\n",
    "v2 = v1[-2:]\n",
    "print(v1)\n",
    "print(v2)"
   ]
  },
  {
   "cell_type": "code",
   "execution_count": 74,
   "id": "d2440489",
   "metadata": {},
   "outputs": [
    {
     "name": "stdout",
     "output_type": "stream",
     "text": [
      "None\n",
      "[0 1 2 3]\n"
     ]
    }
   ],
   "source": [
    "# The base attribute of a view returns the original array while it returns None for a copy.\n",
    "print(v1.base)\n",
    "print(v2.base)"
   ]
  },
  {
   "cell_type": "code",
   "execution_count": 76,
   "id": "c8752807",
   "metadata": {},
   "outputs": [
    {
     "name": "stdout",
     "output_type": "stream",
     "text": [
      "[  0   1   2 123]\n",
      "[  2 123]\n"
     ]
    }
   ],
   "source": [
    "# The last element in v1 will be changed aswell since v2 is a view, meaning they share the same data buffer.\n",
    "v2[-1] = 123\n",
    "print(v1)\n",
    "print(v2)\n"
   ]
  },
  {
   "cell_type": "code",
   "execution_count": null,
   "id": "3dd68221",
   "metadata": {},
   "outputs": [],
   "source": []
  }
 ],
 "metadata": {
  "kernelspec": {
   "display_name": "Python 3 (ipykernel)",
   "language": "python",
   "name": "python3"
  },
  "language_info": {
   "codemirror_mode": {
    "name": "ipython",
    "version": 3
   },
   "file_extension": ".py",
   "mimetype": "text/x-python",
   "name": "python",
   "nbconvert_exporter": "python",
   "pygments_lexer": "ipython3",
   "version": "3.12.7"
  }
 },
 "nbformat": 4,
 "nbformat_minor": 5
}
