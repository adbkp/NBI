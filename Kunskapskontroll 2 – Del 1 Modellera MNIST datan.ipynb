{
 "cells": [
  {
   "cell_type": "markdown",
   "id": "8e5b01db-c50c-465c-bc1f-76c784f3f143",
   "metadata": {},
   "source": [
    "# Kunskapskontroll 2 – Del 1, Modellera MNIST datan"
   ]
  },
  {
   "cell_type": "markdown",
   "id": "799430f5-d842-41eb-821d-2bb9317b0a02",
   "metadata": {},
   "source": [
    "### Använd maskininlärning för att modellera MNIST datan. Du skall utvärdera minst två olika modeller i ditt arbete och göra ett komplett ML-flöde, från början, där du laddar in data, till slut, där du utvärderar den bäst valda modellen på din test data."
   ]
  },
  {
   "cell_type": "markdown",
   "id": "6e25feba-ef09-48d4-9fd4-0c57274fa956",
   "metadata": {},
   "source": [
    "### Jag använder två modeller: Logistic Regression och Random Forest."
   ]
  },
  {
   "cell_type": "code",
   "execution_count": 15,
   "id": "20a7ad61-8701-4a72-b861-d5c7d2429e1f",
   "metadata": {},
   "outputs": [],
   "source": [
    "# Importera nödvändiga bibliotek\n",
    "import numpy as np\n",
    "import matplotlib.pyplot as plt\n",
    "from sklearn.datasets import fetch_openml\n",
    "from sklearn.model_selection import train_test_split\n",
    "from sklearn.preprocessing import StandardScaler\n",
    "from sklearn.linear_model import LogisticRegression\n",
    "from sklearn.ensemble import RandomForestClassifier\n",
    "from sklearn.metrics import classification_report, accuracy_score, confusion_matrix"
   ]
  },
  {
   "cell_type": "code",
   "execution_count": 17,
   "id": "fc342913-e570-46e3-8661-25d9b651a562",
   "metadata": {},
   "outputs": [
    {
     "name": "stdout",
     "output_type": "stream",
     "text": [
      "Laddar in MNIST-datan...\n"
     ]
    }
   ],
   "source": [
    "# 1. Ladda in data\n",
    "print(\"Laddar in MNIST-datan...\")\n",
    "data = fetch_openml(\"mnist_784\", version=1)\n",
    "X, y = data.data, data.target.astype(int)"
   ]
  },
  {
   "cell_type": "code",
   "execution_count": 19,
   "id": "0832588a-e4b8-421a-9c94-e4661a330307",
   "metadata": {},
   "outputs": [
    {
     "name": "stdout",
     "output_type": "stream",
     "text": [
      "Delar upp data i träning, validering och test...\n"
     ]
    }
   ],
   "source": [
    "# 2. Dela upp data i träning, validering och test\n",
    "print(\"Delar upp data i träning, validering och test...\")\n",
    "X_train_full, X_test, y_train_full, y_test = train_test_split(X, y, test_size=0.2, random_state=42)\n",
    "X_train, X_val, y_train, y_val = train_test_split(X_train_full, y_train_full, test_size=0.25, random_state=42) # 60/20/20 split"
   ]
  },
  {
   "cell_type": "code",
   "execution_count": 21,
   "id": "30f12497-0aa0-442a-b947-661521f4a485",
   "metadata": {},
   "outputs": [
    {
     "name": "stdout",
     "output_type": "stream",
     "text": [
      "Normaliserar data...\n"
     ]
    }
   ],
   "source": [
    "# 3. Normalisera datan\n",
    "print(\"Normaliserar data...\")\n",
    "scaler = StandardScaler()\n",
    "X_train = scaler.fit_transform(X_train)\n",
    "X_val = scaler.transform(X_val)\n",
    "X_test = scaler.transform(X_test)"
   ]
  },
  {
   "cell_type": "code",
   "execution_count": 23,
   "id": "4d207ffd-5b2e-4560-b016-42d52d84dd7b",
   "metadata": {},
   "outputs": [
    {
     "name": "stdout",
     "output_type": "stream",
     "text": [
      "Tränar och utvärderar modeller...\n"
     ]
    }
   ],
   "source": [
    "# 4. Träna och utvärdera modeller\n",
    "print(\"Tränar och utvärderar modeller...\")"
   ]
  },
  {
   "cell_type": "code",
   "execution_count": 27,
   "id": "e515ea28-4279-43f6-af05-982fecd39c29",
   "metadata": {},
   "outputs": [
    {
     "name": "stdout",
     "output_type": "stream",
     "text": [
      "Logistic Regression Accuracy (Validering): 0.9108\n"
     ]
    }
   ],
   "source": [
    "# Modell 1: Logistic Regression\n",
    "log_reg = LogisticRegression(max_iter=1000, solver='lbfgs', random_state=42)\n",
    "log_reg.fit(X_train, y_train)\n",
    "y_val_pred_logreg = log_reg.predict(X_val)\n",
    "logreg_accuracy = accuracy_score(y_val, y_val_pred_logreg)\n",
    "print(f\"Logistic Regression Accuracy (Validering): {logreg_accuracy:.4f}\")"
   ]
  },
  {
   "cell_type": "code",
   "execution_count": 31,
   "id": "87c1de9c-d6d8-4db1-96e6-5971edcf5f15",
   "metadata": {},
   "outputs": [
    {
     "name": "stdout",
     "output_type": "stream",
     "text": [
      "Random Forest Accuracy (Validering): 0.9652\n"
     ]
    }
   ],
   "source": [
    "# Modell 2: Random Forest\n",
    "rf_clf = RandomForestClassifier(n_estimators=100, random_state=42)\n",
    "rf_clf.fit(X_train, y_train)\n",
    "y_val_pred_rf = rf_clf.predict(X_val)\n",
    "rf_accuracy = accuracy_score(y_val, y_val_pred_rf)\n",
    "print(f\"Random Forest Accuracy (Validering): {rf_accuracy:.4f}\")"
   ]
  },
  {
   "cell_type": "code",
   "execution_count": 29,
   "id": "66bfde3f-b2dd-47e6-9133-0bb0327c9fec",
   "metadata": {},
   "outputs": [
    {
     "name": "stdout",
     "output_type": "stream",
     "text": [
      "Random Forest valdes som den bästa modellen.\n"
     ]
    }
   ],
   "source": [
    "# 5. Välj bästa modell och utvärdera på testdata\n",
    "if logreg_accuracy > rf_accuracy:\n",
    "    print(\"Logistic Regression valdes som den bästa modellen.\")\n",
    "    best_model = log_reg\n",
    "else:\n",
    "    print(\"Random Forest valdes som den bästa modellen.\")\n",
    "    best_model = rf_clf"
   ]
  },
  {
   "cell_type": "code",
   "execution_count": 34,
   "id": "e888b662-4064-4076-8027-1709b78fb914",
   "metadata": {},
   "outputs": [
    {
     "name": "stdout",
     "output_type": "stream",
     "text": [
      "Utvärderar den bästa modellen på testdatan...\n",
      "Test Accuracy: 0.9646\n"
     ]
    }
   ],
   "source": [
    "# Utvärdera på testdata\n",
    "print(\"Utvärderar den bästa modellen på testdatan...\")\n",
    "y_test_pred = best_model.predict(X_test)\n",
    "test_accuracy = accuracy_score(y_test, y_test_pred)\n",
    "print(f\"Test Accuracy: {test_accuracy:.4f}\")"
   ]
  },
  {
   "cell_type": "code",
   "execution_count": 36,
   "id": "9b1bcd26-baf3-4951-b938-ef1ae30a007c",
   "metadata": {},
   "outputs": [
    {
     "name": "stdout",
     "output_type": "stream",
     "text": [
      "\n",
      "Classification Report (Test Data):\n",
      "              precision    recall  f1-score   support\n",
      "\n",
      "           0       0.98      0.99      0.98      1343\n",
      "           1       0.98      0.98      0.98      1600\n",
      "           2       0.95      0.97      0.96      1380\n",
      "           3       0.95      0.95      0.95      1433\n",
      "           4       0.96      0.97      0.96      1295\n",
      "           5       0.97      0.95      0.96      1273\n",
      "           6       0.98      0.98      0.98      1396\n",
      "           7       0.96      0.96      0.96      1503\n",
      "           8       0.95      0.95      0.95      1357\n",
      "           9       0.96      0.95      0.95      1420\n",
      "\n",
      "    accuracy                           0.96     14000\n",
      "   macro avg       0.96      0.96      0.96     14000\n",
      "weighted avg       0.96      0.96      0.96     14000\n",
      "\n",
      "\n",
      "Confusion Matrix (Test Data):\n",
      "[[1323    0    3    0    2    2    3    1    8    1]\n",
      " [   0 1576    5    7    2    1    0    6    2    1]\n",
      " [   5    4 1332    5    4    1   10    8    8    3]\n",
      " [   1    0   20 1361    0   10    0   17   18    6]\n",
      " [   2    0    4    0 1254    0    4    4    2   25]\n",
      " [   6    3    3   25    5 1207    6    2   12    4]\n",
      " [   4    2    0    1    6   10 1370    0    3    0]\n",
      " [   3    5   19    1    8    0    0 1449    4   14]\n",
      " [   1    9   12   14    6    7    6    6 1287    9]\n",
      " [   5    5    4   17   21    4    1   12    6 1345]]\n"
     ]
    }
   ],
   "source": [
    "# 6. Rapportera prestanda\n",
    "print(\"\\nClassification Report (Test Data):\")\n",
    "print(classification_report(y_test, y_test_pred))\n",
    "print(\"\\nConfusion Matrix (Test Data):\")\n",
    "print(confusion_matrix(y_test, y_test_pred))"
   ]
  }
 ],
 "metadata": {
  "kernelspec": {
   "display_name": "Python 3 (ipykernel)",
   "language": "python",
   "name": "python3"
  },
  "language_info": {
   "codemirror_mode": {
    "name": "ipython",
    "version": 3
   },
   "file_extension": ".py",
   "mimetype": "text/x-python",
   "name": "python",
   "nbconvert_exporter": "python",
   "pygments_lexer": "ipython3",
   "version": "3.12.7"
  }
 },
 "nbformat": 4,
 "nbformat_minor": 5
}
